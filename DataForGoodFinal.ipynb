{
  "nbformat": 4,
  "nbformat_minor": 0,
  "metadata": {
    "colab": {
      "name": "DataForGoodFinal.ipynb",
      "provenance": [],
      "authorship_tag": "ABX9TyPkCuuJLGB8JoWWhvrwHYat",
      "include_colab_link": true
    },
    "kernelspec": {
      "name": "python3",
      "display_name": "Python 3"
    },
    "language_info": {
      "name": "python"
    }
  },
  "cells": [
    {
      "cell_type": "markdown",
      "metadata": {
        "id": "view-in-github",
        "colab_type": "text"
      },
      "source": [
        "<a href=\"https://colab.research.google.com/github/deepaskori/JPMC-Data-for-Good/blob/main/DataForGoodFinal.ipynb\" target=\"_parent\"><img src=\"https://colab.research.google.com/assets/colab-badge.svg\" alt=\"Open In Colab\"/></a>"
      ]
    },
    {
      "cell_type": "code",
      "metadata": {
        "colab": {
          "resources": {
            "http://localhost:8080/nbextensions/google.colab/files.js": {
              "data": "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",
              "ok": true,
              "headers": [
                [
                  "content-type",
                  "application/javascript"
                ]
              ],
              "status": 200,
              "status_text": ""
            }
          },
          "base_uri": "https://localhost:8080/",
          "height": 72
        },
        "id": "27LcbJqoY3l0",
        "outputId": "bc666e93-9a65-4aad-9fc2-e3aebdfaf9ee"
      },
      "source": [
        "import pandas as pd\n",
        "import numpy as np\n",
        "\n",
        "from google.colab import files\n",
        "uploaded = files.upload()\n"
      ],
      "execution_count": null,
      "outputs": [
        {
          "output_type": "display_data",
          "data": {
            "text/html": [
              "\n",
              "     <input type=\"file\" id=\"files-e4b46afe-26a7-4ab4-a079-8c2af03f3238\" name=\"files[]\" multiple disabled\n",
              "        style=\"border:none\" />\n",
              "     <output id=\"result-e4b46afe-26a7-4ab4-a079-8c2af03f3238\">\n",
              "      Upload widget is only available when the cell has been executed in the\n",
              "      current browser session. Please rerun this cell to enable.\n",
              "      </output>\n",
              "      <script src=\"/nbextensions/google.colab/files.js\"></script> "
            ],
            "text/plain": [
              "<IPython.core.display.HTML object>"
            ]
          },
          "metadata": {}
        },
        {
          "output_type": "stream",
          "name": "stdout",
          "text": [
            "Saving NYC Schools -2021 Hackathon.xlsx to NYC Schools -2021 Hackathon.xlsx\n"
          ]
        }
      ]
    },
    {
      "cell_type": "code",
      "metadata": {
        "id": "2zdtbGXNbQZf"
      },
      "source": [
        "df1 = pd.read_excel(\"NYC Schools -2021 Hackathon.xlsx\", sheet_name= '2016 School Explorer')\n",
        "df1"
      ],
      "execution_count": null,
      "outputs": []
    },
    {
      "cell_type": "code",
      "metadata": {
        "id": "LHPfj4VQcb3T"
      },
      "source": [
        "df2 = pd.read_excel(\"NYC Schools -2021 Hackathon.xlsx\", sheet_name= 'Total - GenEd')\n",
        "df2"
      ],
      "execution_count": null,
      "outputs": []
    },
    {
      "cell_type": "code",
      "metadata": {
        "id": "v_51NKOZeOrT"
      },
      "source": [
        "df3 = pd.read_excel(\"NYC Schools -2021 Hackathon.xlsx\", sheet_name= 'GenEd - Parent %')\n",
        "df3"
      ],
      "execution_count": null,
      "outputs": []
    },
    {
      "cell_type": "code",
      "metadata": {
        "id": "KqJdKchneXOO"
      },
      "source": [
        "df4 = pd.read_excel(\"NYC Schools -2021 Hackathon.xlsx\", sheet_name= 'GenEd - Student %')\n",
        "df4"
      ],
      "execution_count": null,
      "outputs": []
    },
    {
      "cell_type": "code",
      "metadata": {
        "id": "CqObm1k7ebOW"
      },
      "source": [
        "df5 = pd.read_excel(\"NYC Schools -2021 Hackathon.xlsx\", sheet_name= 'Teacher %')\n",
        "df5"
      ],
      "execution_count": null,
      "outputs": []
    },
    {
      "cell_type": "code",
      "metadata": {
        "id": "4S-qGcuJehS3"
      },
      "source": [
        "df6 = pd.read_excel(\"NYC Schools -2021 Hackathon.xlsx\", sheet_name= 'School Programs Counts')\n",
        "df6"
      ],
      "execution_count": null,
      "outputs": []
    },
    {
      "cell_type": "code",
      "metadata": {
        "id": "NygqfvW-iKmM"
      },
      "source": [
        "df7 = pd.read_excel(\"NYC Schools -2021 Hackathon.xlsx\", sheet_name= 'School Programs')\n",
        "df7"
      ],
      "execution_count": null,
      "outputs": []
    },
    {
      "cell_type": "code",
      "metadata": {
        "id": "Dz9-e0DOiTLW"
      },
      "source": [
        "#correlating attendance with economic need index, school income estimate, rigorous instruction, collaborative teachers, supportive environment, effective school leadership, strong family-community ties, trust, ELA proficiency, Math proficiency\n",
        "df1.head()\n",
        "df = df[['Student Attendance Rate', 'Economic Need Index', 'School Income Estimate', 'Rigorous Instruction %', 'Collaborative Teachers %', 'Supportive Environment %', 'Effective School Leadership %', 'Strong Family-Community Ties %', 'Trust %', 'Average ELA Proficiency', 'Average Math Proficiency']]\n",
        "# df.isna().any()\n",
        "df.dropna()\n",
        "df.corr()\n",
        "#high correlation: ENI, SIE\n",
        "#medium correlation: rigorous instruction, supportive environment, effective school leadership, strong fam-comm ties, avg ela proficiency\n",
        "#low correlation: collaborative teachers, trust, average math prof"
      ],
      "execution_count": null,
      "outputs": []
    },
    {
      "cell_type": "code",
      "metadata": {
        "id": "4B8B9RG0lGiu"
      },
      "source": [
        "#checking that DBN and Location Code are primary keys\n",
        "df1[['School Name', 'Location Code']].head(10)\n"
      ],
      "execution_count": null,
      "outputs": []
    },
    {
      "cell_type": "code",
      "metadata": {
        "id": "NdlUEh0TzwIG"
      },
      "source": [
        "df2[['School Name', 'DBN']].head(10)"
      ],
      "execution_count": null,
      "outputs": []
    },
    {
      "cell_type": "code",
      "metadata": {
        "id": "_xAcqayLz2Fl"
      },
      "source": [
        "#joining df1 and df2 on primary key(DBN)\n",
        "df1.rename(columns = {'Location Code':'DBN'}, inplace = True)\n",
        "merged12 = pd.merge(df1[['DBN', 'Student Attendance Rate']], df2, on = 'DBN')\n",
        "merged12.dropna()\n",
        "merged12.corr()\n",
        "#high correlation: total student response rate, total parent response rate, total teacher response rate\n",
        "#medium correlation: collaborative teachers, effective school leadership, strong fam-comm ties, parent, teacher\n",
        "#low correlation:trust"
      ],
      "execution_count": null,
      "outputs": []
    },
    {
      "cell_type": "code",
      "metadata": {
        "id": "cgl-kaJPBlYY"
      },
      "source": [
        "#creating scatter plots for df1\n",
        "from matplotlib import pyplot as plt\n",
        "plt.scatter(df1['Economic Need Index'], np.log(df1['Student Attendance Rate']), alpha = .1)\n",
        "plt.xlabel('Economic Need Index')\n",
        "plt.ylabel('log of Student Attendance Rate')\n",
        "plt.show()"
      ],
      "execution_count": null,
      "outputs": []
    },
    {
      "cell_type": "code",
      "metadata": {
        "id": "-lPa8zayClaG"
      },
      "source": [
        "plt.scatter(df1['School Income Estimate'], np.log(df1['Student Attendance Rate']), alpha = .1)\n",
        "plt.ylabel('School Income Estimate')\n",
        "plt.xlabel('log of Student Attendance Rate')\n",
        "plt.show()"
      ],
      "execution_count": null,
      "outputs": []
    },
    {
      "cell_type": "code",
      "metadata": {
        "id": "OYLSDTe1CvdI"
      },
      "source": [
        "plt.scatter((merged12['Total Student Response Rate']), np.log(merged12['Student Attendance Rate']), alpha = .1)\n",
        "plt.ylabel('Total Student Response Rate')\n",
        "plt.xlabel('log of Student Attendance Rate')\n",
        "plt.show()"
      ],
      "execution_count": null,
      "outputs": []
    },
    {
      "cell_type": "code",
      "metadata": {
        "id": "XS9ILDwCJiAt"
      },
      "source": [
        "plt.scatter((merged12['Total Parent \\nResponse Rate']), np.log(merged12['Student Attendance Rate']), alpha = .1)\n",
        "plt.ylabel('Total Parent \\nResponse Rate')\n",
        "plt.xlabel('log of Student Attendance Rate')\n",
        "plt.show()"
      ],
      "execution_count": null,
      "outputs": []
    },
    {
      "cell_type": "code",
      "metadata": {
        "id": "0LLNsNaaKijd"
      },
      "source": [
        "plt.scatter((merged12['Total Teacher Response Rate']), np.log(merged12['Student Attendance Rate']), alpha = .1)\n",
        "plt.ylabel('Total Teacher Response Rate')\n",
        "plt.xlabel('log of Student Attendance Rate')\n",
        "plt.show()"
      ],
      "execution_count": null,
      "outputs": []
    },
    {
      "cell_type": "code",
      "metadata": {
        "colab": {
          "base_uri": "https://localhost:8080/",
          "height": 529
        },
        "id": "Z4uRxljS_rW9",
        "outputId": "98ef7284-c7c1-482d-ac39-8d33b5f5bbce"
      },
      "source": [
        "#grouping school data by zip code and finding correlation btwn attendance and specific programs\n",
        "\n",
        "#creating zipcode column in df1\n",
        "df1['Zip'] = df1['Address (Full)'].str[-6:]\n",
        "df1['Zip'] = pd.to_numeric(df1.zipcode)\n",
        "\n",
        "#grouping df1 by zipcode\n",
        "df1_grouped = df1[['Student Attendance Rate', 'Zip']]\n",
        "df1_grouped = df1_grouped.groupby(['Zip']).mean()\n",
        "df1_grouped\n",
        "\n",
        "#joining df6 and df1_grouped on 'zipcode'\n",
        "merged16 = pd.merge(df1_grouped, df6, on = 'Zip')\n",
        "merged16.corr()"
      ],
      "execution_count": null,
      "outputs": [
        {
          "output_type": "execute_result",
          "data": {
            "text/html": [
              "<div>\n",
              "<style scoped>\n",
              "    .dataframe tbody tr th:only-of-type {\n",
              "        vertical-align: middle;\n",
              "    }\n",
              "\n",
              "    .dataframe tbody tr th {\n",
              "        vertical-align: top;\n",
              "    }\n",
              "\n",
              "    .dataframe thead th {\n",
              "        text-align: right;\n",
              "    }\n",
              "</style>\n",
              "<table border=\"1\" class=\"dataframe\">\n",
              "  <thead>\n",
              "    <tr style=\"text-align: right;\">\n",
              "      <th></th>\n",
              "      <th>Zip</th>\n",
              "      <th>Student Attendance Rate</th>\n",
              "      <th>SUMMER_prog</th>\n",
              "      <th>SCHOOL_YEA_prog</th>\n",
              "      <th>WEEKENDS_prog</th>\n",
              "      <th>EVENINGS_prog</th>\n",
              "      <th>ELEMENTARY_prog</th>\n",
              "      <th>MIDDLE_SCH_prog</th>\n",
              "      <th>HIGH_SCHOO_prog</th>\n",
              "      <th>ACADEMICS_prog</th>\n",
              "      <th>SPORTS_PHY_prog</th>\n",
              "      <th>ARTS_CULTU_prog</th>\n",
              "      <th>Count_of_programs</th>\n",
              "    </tr>\n",
              "  </thead>\n",
              "  <tbody>\n",
              "    <tr>\n",
              "      <th>Zip</th>\n",
              "      <td>1.000000</td>\n",
              "      <td>0.243670</td>\n",
              "      <td>-0.095024</td>\n",
              "      <td>-0.085243</td>\n",
              "      <td>-0.194370</td>\n",
              "      <td>-0.348096</td>\n",
              "      <td>-0.071544</td>\n",
              "      <td>-0.155459</td>\n",
              "      <td>-0.178704</td>\n",
              "      <td>-0.068497</td>\n",
              "      <td>-0.066123</td>\n",
              "      <td>-0.073533</td>\n",
              "      <td>-0.069640</td>\n",
              "    </tr>\n",
              "    <tr>\n",
              "      <th>Student Attendance Rate</th>\n",
              "      <td>0.243670</td>\n",
              "      <td>1.000000</td>\n",
              "      <td>-0.396858</td>\n",
              "      <td>-0.339737</td>\n",
              "      <td>-0.206951</td>\n",
              "      <td>-0.387550</td>\n",
              "      <td>-0.306027</td>\n",
              "      <td>-0.344693</td>\n",
              "      <td>-0.391637</td>\n",
              "      <td>-0.336530</td>\n",
              "      <td>-0.335674</td>\n",
              "      <td>-0.332522</td>\n",
              "      <td>-0.338425</td>\n",
              "    </tr>\n",
              "    <tr>\n",
              "      <th>SUMMER_prog</th>\n",
              "      <td>-0.095024</td>\n",
              "      <td>-0.396858</td>\n",
              "      <td>1.000000</td>\n",
              "      <td>0.871989</td>\n",
              "      <td>0.683616</td>\n",
              "      <td>0.821550</td>\n",
              "      <td>0.909714</td>\n",
              "      <td>0.891735</td>\n",
              "      <td>0.878235</td>\n",
              "      <td>0.913022</td>\n",
              "      <td>0.882942</td>\n",
              "      <td>0.901717</td>\n",
              "      <td>0.906781</td>\n",
              "    </tr>\n",
              "    <tr>\n",
              "      <th>SCHOOL_YEA_prog</th>\n",
              "      <td>-0.085243</td>\n",
              "      <td>-0.339737</td>\n",
              "      <td>0.871989</td>\n",
              "      <td>1.000000</td>\n",
              "      <td>0.606280</td>\n",
              "      <td>0.774422</td>\n",
              "      <td>0.935061</td>\n",
              "      <td>0.910857</td>\n",
              "      <td>0.905182</td>\n",
              "      <td>0.979936</td>\n",
              "      <td>0.964431</td>\n",
              "      <td>0.969119</td>\n",
              "      <td>0.988404</td>\n",
              "    </tr>\n",
              "    <tr>\n",
              "      <th>WEEKENDS_prog</th>\n",
              "      <td>-0.194370</td>\n",
              "      <td>-0.206951</td>\n",
              "      <td>0.683616</td>\n",
              "      <td>0.606280</td>\n",
              "      <td>1.000000</td>\n",
              "      <td>0.665151</td>\n",
              "      <td>0.659012</td>\n",
              "      <td>0.711037</td>\n",
              "      <td>0.640580</td>\n",
              "      <td>0.631804</td>\n",
              "      <td>0.562723</td>\n",
              "      <td>0.627726</td>\n",
              "      <td>0.622552</td>\n",
              "    </tr>\n",
              "    <tr>\n",
              "      <th>EVENINGS_prog</th>\n",
              "      <td>-0.348096</td>\n",
              "      <td>-0.387550</td>\n",
              "      <td>0.821550</td>\n",
              "      <td>0.774422</td>\n",
              "      <td>0.665151</td>\n",
              "      <td>1.000000</td>\n",
              "      <td>0.828740</td>\n",
              "      <td>0.860420</td>\n",
              "      <td>0.818555</td>\n",
              "      <td>0.799501</td>\n",
              "      <td>0.784634</td>\n",
              "      <td>0.802485</td>\n",
              "      <td>0.782768</td>\n",
              "    </tr>\n",
              "    <tr>\n",
              "      <th>ELEMENTARY_prog</th>\n",
              "      <td>-0.071544</td>\n",
              "      <td>-0.306027</td>\n",
              "      <td>0.909714</td>\n",
              "      <td>0.935061</td>\n",
              "      <td>0.659012</td>\n",
              "      <td>0.828740</td>\n",
              "      <td>1.000000</td>\n",
              "      <td>0.922481</td>\n",
              "      <td>0.826220</td>\n",
              "      <td>0.966769</td>\n",
              "      <td>0.956531</td>\n",
              "      <td>0.971267</td>\n",
              "      <td>0.955117</td>\n",
              "    </tr>\n",
              "    <tr>\n",
              "      <th>MIDDLE_SCH_prog</th>\n",
              "      <td>-0.155459</td>\n",
              "      <td>-0.344693</td>\n",
              "      <td>0.891735</td>\n",
              "      <td>0.910857</td>\n",
              "      <td>0.711037</td>\n",
              "      <td>0.860420</td>\n",
              "      <td>0.922481</td>\n",
              "      <td>1.000000</td>\n",
              "      <td>0.847243</td>\n",
              "      <td>0.939917</td>\n",
              "      <td>0.926781</td>\n",
              "      <td>0.941608</td>\n",
              "      <td>0.927593</td>\n",
              "    </tr>\n",
              "    <tr>\n",
              "      <th>HIGH_SCHOO_prog</th>\n",
              "      <td>-0.178704</td>\n",
              "      <td>-0.391637</td>\n",
              "      <td>0.878235</td>\n",
              "      <td>0.905182</td>\n",
              "      <td>0.640580</td>\n",
              "      <td>0.818555</td>\n",
              "      <td>0.826220</td>\n",
              "      <td>0.847243</td>\n",
              "      <td>1.000000</td>\n",
              "      <td>0.887098</td>\n",
              "      <td>0.853738</td>\n",
              "      <td>0.865009</td>\n",
              "      <td>0.905912</td>\n",
              "    </tr>\n",
              "    <tr>\n",
              "      <th>ACADEMICS_prog</th>\n",
              "      <td>-0.068497</td>\n",
              "      <td>-0.336530</td>\n",
              "      <td>0.913022</td>\n",
              "      <td>0.979936</td>\n",
              "      <td>0.631804</td>\n",
              "      <td>0.799501</td>\n",
              "      <td>0.966769</td>\n",
              "      <td>0.939917</td>\n",
              "      <td>0.887098</td>\n",
              "      <td>1.000000</td>\n",
              "      <td>0.988546</td>\n",
              "      <td>0.995501</td>\n",
              "      <td>0.994184</td>\n",
              "    </tr>\n",
              "    <tr>\n",
              "      <th>SPORTS_PHY_prog</th>\n",
              "      <td>-0.066123</td>\n",
              "      <td>-0.335674</td>\n",
              "      <td>0.882942</td>\n",
              "      <td>0.964431</td>\n",
              "      <td>0.562723</td>\n",
              "      <td>0.784634</td>\n",
              "      <td>0.956531</td>\n",
              "      <td>0.926781</td>\n",
              "      <td>0.853738</td>\n",
              "      <td>0.988546</td>\n",
              "      <td>1.000000</td>\n",
              "      <td>0.993155</td>\n",
              "      <td>0.981418</td>\n",
              "    </tr>\n",
              "    <tr>\n",
              "      <th>ARTS_CULTU_prog</th>\n",
              "      <td>-0.073533</td>\n",
              "      <td>-0.332522</td>\n",
              "      <td>0.901717</td>\n",
              "      <td>0.969119</td>\n",
              "      <td>0.627726</td>\n",
              "      <td>0.802485</td>\n",
              "      <td>0.971267</td>\n",
              "      <td>0.941608</td>\n",
              "      <td>0.865009</td>\n",
              "      <td>0.995501</td>\n",
              "      <td>0.993155</td>\n",
              "      <td>1.000000</td>\n",
              "      <td>0.986395</td>\n",
              "    </tr>\n",
              "    <tr>\n",
              "      <th>Count_of_programs</th>\n",
              "      <td>-0.069640</td>\n",
              "      <td>-0.338425</td>\n",
              "      <td>0.906781</td>\n",
              "      <td>0.988404</td>\n",
              "      <td>0.622552</td>\n",
              "      <td>0.782768</td>\n",
              "      <td>0.955117</td>\n",
              "      <td>0.927593</td>\n",
              "      <td>0.905912</td>\n",
              "      <td>0.994184</td>\n",
              "      <td>0.981418</td>\n",
              "      <td>0.986395</td>\n",
              "      <td>1.000000</td>\n",
              "    </tr>\n",
              "  </tbody>\n",
              "</table>\n",
              "</div>"
            ],
            "text/plain": [
              "                              Zip  ...  Count_of_programs\n",
              "Zip                      1.000000  ...          -0.069640\n",
              "Student Attendance Rate  0.243670  ...          -0.338425\n",
              "SUMMER_prog             -0.095024  ...           0.906781\n",
              "SCHOOL_YEA_prog         -0.085243  ...           0.988404\n",
              "WEEKENDS_prog           -0.194370  ...           0.622552\n",
              "EVENINGS_prog           -0.348096  ...           0.782768\n",
              "ELEMENTARY_prog         -0.071544  ...           0.955117\n",
              "MIDDLE_SCH_prog         -0.155459  ...           0.927593\n",
              "HIGH_SCHOO_prog         -0.178704  ...           0.905912\n",
              "ACADEMICS_prog          -0.068497  ...           0.994184\n",
              "SPORTS_PHY_prog         -0.066123  ...           0.981418\n",
              "ARTS_CULTU_prog         -0.073533  ...           0.986395\n",
              "Count_of_programs       -0.069640  ...           1.000000\n",
              "\n",
              "[13 rows x 13 columns]"
            ]
          },
          "metadata": {},
          "execution_count": 219
        }
      ]
    },
    {
      "cell_type": "code",
      "metadata": {
        "colab": {
          "base_uri": "https://localhost:8080/",
          "height": 178
        },
        "id": "CNy8YAx-UDJz",
        "outputId": "407646ce-0937-444a-f901-8d127294bbcf"
      },
      "source": [
        "#finding features regarding safety in df3\n",
        "# df3.iloc[:, [66]] #At this school my child is safe.\n",
        "# df3.iloc[:, [76]] #School Safety Agents promote a safe and respectful environment at this school.\n",
        "#merge df3 and df1 on DBN\n",
        "\n",
        "merged13 = pd.merge(df1[['DBN', 'Student Attendance Rate']], df3, on = 'DBN')\n",
        "# merged13.head()\n",
        "merged13.rename(columns = {\"Unnamed: 66\":'At this school my child is safe', \"Unnamed: 76\":\"School Safety Agents promote a safe and respectful environment at this school.\"}, inplace = True)\n",
        "merged13['At this school my child is safe'] = pd.to_numeric(merged13[\"At this school my child is safe\"])\n",
        "merged13[\"School Safety Agents promote a safe and respectful environment at this school.\"] = pd.to_numeric(merged13[\"School Safety Agents promote a safe and respectful environment at this school.\"])\n",
        "merged13.iloc[:, [1, 67, 77]].corr()\n"
      ],
      "execution_count": null,
      "outputs": [
        {
          "output_type": "execute_result",
          "data": {
            "text/html": [
              "<div>\n",
              "<style scoped>\n",
              "    .dataframe tbody tr th:only-of-type {\n",
              "        vertical-align: middle;\n",
              "    }\n",
              "\n",
              "    .dataframe tbody tr th {\n",
              "        vertical-align: top;\n",
              "    }\n",
              "\n",
              "    .dataframe thead th {\n",
              "        text-align: right;\n",
              "    }\n",
              "</style>\n",
              "<table border=\"1\" class=\"dataframe\">\n",
              "  <thead>\n",
              "    <tr style=\"text-align: right;\">\n",
              "      <th></th>\n",
              "      <th>Student Attendance Rate</th>\n",
              "      <th>At this school my child is safe</th>\n",
              "      <th>School Safety Agents promote a safe and respectful environment at this school.</th>\n",
              "    </tr>\n",
              "  </thead>\n",
              "  <tbody>\n",
              "    <tr>\n",
              "      <th>Student Attendance Rate</th>\n",
              "      <td>1.000000</td>\n",
              "      <td>0.022147</td>\n",
              "      <td>0.002250</td>\n",
              "    </tr>\n",
              "    <tr>\n",
              "      <th>At this school my child is safe</th>\n",
              "      <td>0.022147</td>\n",
              "      <td>1.000000</td>\n",
              "      <td>0.915829</td>\n",
              "    </tr>\n",
              "    <tr>\n",
              "      <th>School Safety Agents promote a safe and respectful environment at this school.</th>\n",
              "      <td>0.002250</td>\n",
              "      <td>0.915829</td>\n",
              "      <td>1.000000</td>\n",
              "    </tr>\n",
              "  </tbody>\n",
              "</table>\n",
              "</div>"
            ],
            "text/plain": [
              "                                                    Student Attendance Rate  ...  School Safety Agents promote a safe and respectful environment at this school.\n",
              "Student Attendance Rate                                            1.000000  ...                                           0.002250                             \n",
              "At this school my child is safe                                    0.022147  ...                                           0.915829                             \n",
              "School Safety Agents promote a safe and respect...                 0.002250  ...                                           1.000000                             \n",
              "\n",
              "[3 rows x 3 columns]"
            ]
          },
          "metadata": {},
          "execution_count": 173
        }
      ]
    },
    {
      "cell_type": "code",
      "metadata": {
        "colab": {
          "base_uri": "https://localhost:8080/",
          "height": 494
        },
        "id": "WT9nVW-dcTaq",
        "outputId": "eaba4829-40e2-4221-92a4-cd287fb71f3b"
      },
      "source": [
        "#features for safety df4\n",
        "# df4.head()\n",
        "df4.iloc[:, [143]] # 5i. School Safety Agents promote a safe and respectful environment at this school.\n",
        "df4.iloc[:, [167]] #6f. In how many of your classes at this school do students feel it is important to come to school every day?\n",
        "df4.iloc[:, [183]] #7a. I feel safe outside around this school.\n",
        "df4.iloc[:, [187]] #7b. I feel safe traveling between home and this school.\n",
        "df4.iloc[:, [191]] #7c. I feel safe in the hallways, bathrooms, locker rooms, and cafeteria of this school.\n",
        "df4.iloc[:, [195]] #7d. I feel safe in my classes at this school.\n",
        "merged14 = pd.merge(df1[['DBN', 'Student Attendance Rate']], df4, on = 'DBN')\n",
        "\n",
        "merged14.rename(columns = {'Unnamed: 143': 'School Safety Agents promote a safe and respectful environment at this school.',\n",
        "                           'Unnamed: 167':'In how many of your classes at this school do students feel it is important to come to school every day?', \n",
        "                           'Unnamed: 183': 'I feel safe outside around this school.',\n",
        "                           'Unnamed: 187': 'I feel safe traveling between home and this school.', \n",
        "                           'Unnamed: 191': 'I feel safe in the hallways, bathrooms, locker rooms, and cafeteria of this school.', \n",
        "                           'Unnamed: 195': 'I feel safe in my classes at this school.'}, inplace = True)\n",
        "merged14 = merged14.iloc[:, [1, 144, 168, 184, 188, 192, 196]]\n",
        "merged14.apply(pd.to_numeric).corr()"
      ],
      "execution_count": null,
      "outputs": [
        {
          "output_type": "execute_result",
          "data": {
            "text/html": [
              "<div>\n",
              "<style scoped>\n",
              "    .dataframe tbody tr th:only-of-type {\n",
              "        vertical-align: middle;\n",
              "    }\n",
              "\n",
              "    .dataframe tbody tr th {\n",
              "        vertical-align: top;\n",
              "    }\n",
              "\n",
              "    .dataframe thead th {\n",
              "        text-align: right;\n",
              "    }\n",
              "</style>\n",
              "<table border=\"1\" class=\"dataframe\">\n",
              "  <thead>\n",
              "    <tr style=\"text-align: right;\">\n",
              "      <th></th>\n",
              "      <th>Student Attendance Rate</th>\n",
              "      <th>School Safety Agents promote a safe and respectful environment at this school.</th>\n",
              "      <th>In how many of your classes at this school do students feel it is important to come to school every day?</th>\n",
              "      <th>I feel safe outside around this school.</th>\n",
              "      <th>I feel safe traveling between home and this school.</th>\n",
              "      <th>I feel safe in the hallways, bathrooms, locker rooms, and cafeteria of this school.</th>\n",
              "      <th>I feel safe in my classes at this school.</th>\n",
              "    </tr>\n",
              "  </thead>\n",
              "  <tbody>\n",
              "    <tr>\n",
              "      <th>Student Attendance Rate</th>\n",
              "      <td>1.000000</td>\n",
              "      <td>0.137214</td>\n",
              "      <td>0.021754</td>\n",
              "      <td>0.221810</td>\n",
              "      <td>0.218222</td>\n",
              "      <td>0.215459</td>\n",
              "      <td>0.239152</td>\n",
              "    </tr>\n",
              "    <tr>\n",
              "      <th>School Safety Agents promote a safe and respectful environment at this school.</th>\n",
              "      <td>0.137214</td>\n",
              "      <td>1.000000</td>\n",
              "      <td>0.590694</td>\n",
              "      <td>0.794148</td>\n",
              "      <td>0.779496</td>\n",
              "      <td>0.854864</td>\n",
              "      <td>0.832313</td>\n",
              "    </tr>\n",
              "    <tr>\n",
              "      <th>In how many of your classes at this school do students feel it is important to come to school every day?</th>\n",
              "      <td>0.021754</td>\n",
              "      <td>0.590694</td>\n",
              "      <td>1.000000</td>\n",
              "      <td>0.547749</td>\n",
              "      <td>0.537196</td>\n",
              "      <td>0.518581</td>\n",
              "      <td>0.543182</td>\n",
              "    </tr>\n",
              "    <tr>\n",
              "      <th>I feel safe outside around this school.</th>\n",
              "      <td>0.221810</td>\n",
              "      <td>0.794148</td>\n",
              "      <td>0.547749</td>\n",
              "      <td>1.000000</td>\n",
              "      <td>0.933231</td>\n",
              "      <td>0.881609</td>\n",
              "      <td>0.870178</td>\n",
              "    </tr>\n",
              "    <tr>\n",
              "      <th>I feel safe traveling between home and this school.</th>\n",
              "      <td>0.218222</td>\n",
              "      <td>0.779496</td>\n",
              "      <td>0.537196</td>\n",
              "      <td>0.933231</td>\n",
              "      <td>1.000000</td>\n",
              "      <td>0.849244</td>\n",
              "      <td>0.861995</td>\n",
              "    </tr>\n",
              "    <tr>\n",
              "      <th>I feel safe in the hallways, bathrooms, locker rooms, and cafeteria of this school.</th>\n",
              "      <td>0.215459</td>\n",
              "      <td>0.854864</td>\n",
              "      <td>0.518581</td>\n",
              "      <td>0.881609</td>\n",
              "      <td>0.849244</td>\n",
              "      <td>1.000000</td>\n",
              "      <td>0.920964</td>\n",
              "    </tr>\n",
              "    <tr>\n",
              "      <th>I feel safe in my classes at this school.</th>\n",
              "      <td>0.239152</td>\n",
              "      <td>0.832313</td>\n",
              "      <td>0.543182</td>\n",
              "      <td>0.870178</td>\n",
              "      <td>0.861995</td>\n",
              "      <td>0.920964</td>\n",
              "      <td>1.000000</td>\n",
              "    </tr>\n",
              "  </tbody>\n",
              "</table>\n",
              "</div>"
            ],
            "text/plain": [
              "                                                    Student Attendance Rate  ...  I feel safe in my classes at this school.\n",
              "Student Attendance Rate                                            1.000000  ...                                   0.239152\n",
              "School Safety Agents promote a safe and respect...                 0.137214  ...                                   0.832313\n",
              "In how many of your classes at this school do s...                 0.021754  ...                                   0.543182\n",
              "I feel safe outside around this school.                            0.221810  ...                                   0.870178\n",
              "I feel safe traveling between home and this sch...                 0.218222  ...                                   0.861995\n",
              "I feel safe in the hallways, bathrooms, locker ...                 0.215459  ...                                   0.920964\n",
              "I feel safe in my classes at this school.                          0.239152  ...                                   1.000000\n",
              "\n",
              "[7 rows x 7 columns]"
            ]
          },
          "metadata": {},
          "execution_count": 202
        }
      ]
    },
    {
      "cell_type": "code",
      "metadata": {
        "colab": {
          "base_uri": "https://localhost:8080/",
          "height": 112
        },
        "id": "a0C62J1Zh6TG",
        "outputId": "95747b2a-1f2b-43e0-a701-e8c43be996cd"
      },
      "source": [
        "#features for safety df5\n",
        "df5.iloc[:, [181]] #7g. School Safety Agents promote a safe and respectful environment at this school.\n",
        "merged15 = pd.merge(df1[['DBN', 'Student Attendance Rate']], df5, on = 'DBN')\n",
        "merged15 = merged15.iloc[:, [1, 182]]\n",
        "merged15.rename(columns = {'Unnamed: 181': 'School Safety Agents promote a safe and respectful environment at this school.'}, inplace = True)\n",
        "merged15\n",
        "merged15.apply(pd.to_numeric).corr()"
      ],
      "execution_count": null,
      "outputs": [
        {
          "output_type": "execute_result",
          "data": {
            "text/html": [
              "<div>\n",
              "<style scoped>\n",
              "    .dataframe tbody tr th:only-of-type {\n",
              "        vertical-align: middle;\n",
              "    }\n",
              "\n",
              "    .dataframe tbody tr th {\n",
              "        vertical-align: top;\n",
              "    }\n",
              "\n",
              "    .dataframe thead th {\n",
              "        text-align: right;\n",
              "    }\n",
              "</style>\n",
              "<table border=\"1\" class=\"dataframe\">\n",
              "  <thead>\n",
              "    <tr style=\"text-align: right;\">\n",
              "      <th></th>\n",
              "      <th>Student Attendance Rate</th>\n",
              "      <th>School Safety Agents promote a safe and respectful environment at this school.</th>\n",
              "    </tr>\n",
              "  </thead>\n",
              "  <tbody>\n",
              "    <tr>\n",
              "      <th>Student Attendance Rate</th>\n",
              "      <td>1.000000</td>\n",
              "      <td>0.061295</td>\n",
              "    </tr>\n",
              "    <tr>\n",
              "      <th>School Safety Agents promote a safe and respectful environment at this school.</th>\n",
              "      <td>0.061295</td>\n",
              "      <td>1.000000</td>\n",
              "    </tr>\n",
              "  </tbody>\n",
              "</table>\n",
              "</div>"
            ],
            "text/plain": [
              "                                                    Student Attendance Rate  School Safety Agents promote a safe and respectful environment at this school.\n",
              "Student Attendance Rate                                            1.000000                                           0.061295                             \n",
              "School Safety Agents promote a safe and respect...                 0.061295                                           1.000000                             "
            ]
          },
          "metadata": {},
          "execution_count": 218
        }
      ]
    }
  ]
}